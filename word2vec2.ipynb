{
 "metadata": {
  "name": "",
  "signature": "sha256:6b124b6b17dfb2c2f04bd1038fbabbd3a7ce6e276acbc09d1b8c41f4616313d8"
 },
 "nbformat": 3,
 "nbformat_minor": 0,
 "worksheets": [
  {
   "cells": [
    {
     "cell_type": "code",
     "collapsed": false,
     "input": [
      "from gensim import models\n",
      "import preproc\n",
      "import features\n",
      "import numpy as np\n",
      "from sklearn.cross_validation import train_test_split"
     ],
     "language": "python",
     "metadata": {},
     "outputs": [],
     "prompt_number": 1
    },
    {
     "cell_type": "code",
     "collapsed": false,
     "input": [
      "path = 'pan15-author-profiling-training-dataset-2015-03-02\\\\\\\\pan15-author-profiling-training-dataset-english-2015-03-02\\\\\\\\'\n",
      "users = preproc.load_users(path)\n",
      "truth = preproc.get_users_truth(path)"
     ],
     "language": "python",
     "metadata": {},
     "outputs": [],
     "prompt_number": 2
    },
    {
     "cell_type": "code",
     "collapsed": false,
     "input": [
      "train, test = train_test_split(users, test_size = 0.2)\n",
      "m, f, all_text = get_tokens_per_gender(train)"
     ],
     "language": "python",
     "metadata": {},
     "outputs": [],
     "prompt_number": 4
    },
    {
     "cell_type": "code",
     "collapsed": false,
     "input": [
      "model = models.word2vec.Word2Vec(all_text, size=300, window=10, min_count=1, workers=4, sample = 1e-5)\n",
      "model.init_sims(replace=True)"
     ],
     "language": "python",
     "metadata": {},
     "outputs": [],
     "prompt_number": 33
    },
    {
     "cell_type": "code",
     "collapsed": false,
     "input": [
      "#given an array of User instances, return an array [male_toks, female_toks]\n",
      "def get_tokens_per_gender(users):\n",
      "    user_sentences = preproc.get_all_documents(users)\n",
      "    stopwords = preproc.load_stopwords()\\\n",
      "\n",
      "    texts_M = []\n",
      "    texts_F = []\n",
      "    all_texts = []\n",
      "    for user, doc in user_sentences.iteritems():\n",
      "        rez = [x.lower() for x in doc if x.lower() not in stopwords]\n",
      "        rez_stop = [x.lower() for x in doc]\n",
      "        all_texts.append(rez_stop)\n",
      "        if (truth[user.user_id][0] == 'M'):\n",
      "            texts_M += rez\n",
      "        else:\n",
      "            texts_F += rez\n",
      "\n",
      "    return [texts_M, texts_F, all_texts]"
     ],
     "language": "python",
     "metadata": {},
     "outputs": [],
     "prompt_number": 3
    },
    {
     "cell_type": "code",
     "collapsed": false,
     "input": [
      "m = np.unique(m)\n",
      "f = np.unique(f)\n",
      "test_text = test[0].documents\n",
      "test_truth = truth[test[0].user_id][0]"
     ],
     "language": "python",
     "metadata": {},
     "outputs": [],
     "prompt_number": 6
    },
    {
     "cell_type": "code",
     "collapsed": false,
     "input": [
      "def similarity(text, gender_vocab, model): \n",
      "    stopwords = preproc.load_stopwords() \n",
      "    s = 0.0\n",
      "    text_tokens = [] \n",
      "    for t in text:\n",
      "        toks = t.split() \n",
      "        for tok in toks: \n",
      "           if tok.lower() not in stopwords: \n",
      "               text_tokens.append(tok.lower()) \n",
      "\n",
      "    valid_words = 0 \n",
      "    user_sim = 0.0 \n",
      "    for word in text_tokens: \n",
      "        valid = False \n",
      "        \n",
      "        try: \n",
      "           model.similarity(word, gender_vocab[0]) \n",
      "           valid = True \n",
      "           valid_words += 1 \n",
      "        except KeyError: \n",
      "           pass\n",
      "\n",
      "        if valid: \n",
      "            valid_vocab_words = 0 \n",
      "            for t in gender_vocab: \n",
      "                try:\n",
      "                    s = model.similarity(word, t)\n",
      "                    user_sim += s \n",
      "                    valid_vocab_words += 1 \n",
      "                except KeyError: \n",
      "                    pass\n",
      "    \n",
      "    print valid_words\n",
      "    print valid_vocab_words\n",
      "    if valid_words > 0 and valid_vocab_words > 0: \n",
      "        return user_sim / (valid_words * valid_vocab_words) \n",
      "    else:\n",
      "        return 0.0"
     ],
     "language": "python",
     "metadata": {},
     "outputs": [],
     "prompt_number": 36
    },
    {
     "cell_type": "code",
     "collapsed": false,
     "input": [
      "print similarity(test_text, f, model)\n",
      "print similarity(test_text, m, model)"
     ],
     "language": "python",
     "metadata": {},
     "outputs": [
      {
       "output_type": "stream",
       "stream": "stdout",
       "text": [
        "0.942570472532\n",
        "0.937017453703"
       ]
      },
      {
       "output_type": "stream",
       "stream": "stdout",
       "text": [
        "\n"
       ]
      }
     ],
     "prompt_number": 34
    },
    {
     "cell_type": "code",
     "collapsed": false,
     "input": [
      "test_text2 = test[1].documents\n",
      "test_truth2 = truth[test[1].user_id][0]\n",
      "print similarity(test_text2, f, model)\n",
      "print similarity(test_text2, m, model)"
     ],
     "language": "python",
     "metadata": {},
     "outputs": [
      {
       "output_type": "stream",
       "stream": "stdout",
       "text": [
        "315\n",
        "11058\n",
        "0.939492508232\n",
        "315"
       ]
      },
      {
       "output_type": "stream",
       "stream": "stdout",
       "text": [
        "\n",
        "14327\n",
        "0.932415130767\n"
       ]
      }
     ],
     "prompt_number": 37
    },
    {
     "cell_type": "code",
     "collapsed": false,
     "input": [],
     "language": "python",
     "metadata": {},
     "outputs": [],
     "prompt_number": 30
    },
    {
     "cell_type": "code",
     "collapsed": false,
     "input": [
      "sim_m = []\n",
      "sim_f = []\n",
      "for i in range(len(test)):\n",
      "    print `i` + '/' + `len(test)`\n",
      "    text = test[i].documents\n",
      "    sim_f.append(similarity(text, f, model))\n",
      "    sim_m.append(similarity(text, m, model))"
     ],
     "language": "python",
     "metadata": {},
     "outputs": [
      {
       "output_type": "stream",
       "stream": "stdout",
       "text": [
        "0/31\n",
        "282"
       ]
      },
      {
       "output_type": "stream",
       "stream": "stdout",
       "text": [
        "\n",
        "12459\n",
        "282"
       ]
      },
      {
       "output_type": "stream",
       "stream": "stdout",
       "text": [
        "\n",
        "13591\n",
        "1/31\n",
        "220"
       ]
      },
      {
       "output_type": "stream",
       "stream": "stdout",
       "text": [
        "\n",
        "12459\n",
        "220"
       ]
      },
      {
       "output_type": "stream",
       "stream": "stdout",
       "text": [
        "\n",
        "13591\n",
        "2/31\n",
        "256"
       ]
      },
      {
       "output_type": "stream",
       "stream": "stdout",
       "text": [
        "\n",
        "12459\n",
        "256"
       ]
      }
     ]
    },
    {
     "cell_type": "code",
     "collapsed": false,
     "input": [
      "def get_tokens_from_docs(docs):\n",
      "    stopwords = preproc.load_stopwords() \n",
      "    s = 0.0\n",
      "    text_tokens = [] \n",
      "    for t in docs:\n",
      "        toks = t.split() \n",
      "        for tok in toks: \n",
      "           if tok.lower() not in stopwords: \n",
      "               text_tokens.append(tok.lower()) \n",
      "    \n",
      "    return text_tokens"
     ],
     "language": "python",
     "metadata": {},
     "outputs": [],
     "prompt_number": 27
    },
    {
     "cell_type": "code",
     "collapsed": false,
     "input": [],
     "language": "python",
     "metadata": {},
     "outputs": [
      {
       "output_type": "stream",
       "stream": "stdout",
       "text": [
        "[u'sister', u'town', u'@username', u'#gift', u'#vans', u'#offthewall', u'#vansgirls', u'#cap', u'#socks', u'#hat', u'#tracker', u'#hatter\\u2026', u'http://t.co/umlccckp5i', '#condividiunacocacola', 'friends', 'rickybavutti', '#friends', 'http://t.co/qzmfvnchbk', 'proviamo', '@username', 'remember', 'website', '/', 'save,', 'organize,', 'share', 'find', 'love.', '#test', 'downloaded', \"nothing's\", 'changed', '#tricky', '@username', '-', 'http://t.co/0ukqemp8wc', '#stereoplasti', '#onair', '#radio', '#stereo', '#music', '#nowplaying', 'watching', 'original', 'sin.', 'http://t.co/v2mbmwhjul', '#originalsin', 'plasti', 'weekly', 'out!', 'http://t.co/leqioc8gzl', '?', 'top', 'stories', 'today', '@username', '@username', '@username', '#heytricky', '#tricky', '@username', 'dark', '-', '#downtempo', '#live', '#music', '#performance', '#stereoplasti', 'http://t.co/dfczeix4t1', u'#heytricky', u'#tricky', u'@username', u'yesterday', u'night', u'#bologna', u'#live', u'#music', u'#performance', u'#stereoplasti\\u2026', u'http://t.co/dpcjj9ajd5', u'people', u'dancing', u'#stage', u'@username', u'#tricky', u'#heytricky', u'#live', u'#music', u'#love', u'#performance', u'#party\\u2026', u'http://t.co/rl2urlslch', u'yesterday', u'night', u'#amazing', u'@username', u'#sadarbahar', u'#verona', u'w/', u'missgiulia75', u'-', u'#carhartt', u'#carvarttwip\\u2026', u'http://t.co/mkaqaxrwou', u'#roxyontheroad', u'#plastiwanders', u'(@username', u'?stanbul', u'atat\\xfcrk', u'airport', u'(ist)', u'-', u'@usernameistanbulairport', u'w/', u'227', u'others)', u'http://t.co/z40m61icza', u'events', u'#istanbul', u'-', u'hotel', u'propongono', u'@username', u'#lol', u'#roxy', u'@username', u'#roxyontheroad', u'#travel\\u2026', u'http://t.co/he3eok3ctp', 'ottimo:', 'hakiki', 'sahlep', '#istanbul', '#streetfood', '@username', '#roxy', '#roxyontheroad', '#travel', 'http://t.co/n6r3dnj74l', 'buongiorno', 'turkish', '#breakfast', '#istanbul', '#turkey', '#roxyontheroad', '#roxy', '#travel', '#plastiwanders', 'http://t.co/2uormnjlkw', '#roxyontheroad', '#roxy', '#plastiwanders', '(@username', 'vera', 'hotel', 'tassaray)', '[pic]:', 'http://t.co/wly1ilz8ch', 'plasti', 'weekly', 'out!', 'http://t.co/leqioc8gzl', '?', 'top', 'stories', 'today', '@username', '@username', '@username', '#roxyontheroad', '#roxy', '#travel#quiksilver', '(@username', 'pamukkale', 'w/', 'others)', 'http://t.co/kao2qeniax', '#roxyontheroad', '#roxy', '#travel', '#quiksilver', '#plastiwanders', '(@username', 'tripolis', 'thermal', 'hotel)', 'http://t.co/kvaqxliwz7', u'onyria', u'claros', u'beach', u'&', u'spa', u'resort', u'(\\xf6zdere,', u'?zmir)', u'http://t.co/g7flvmajrj', u'onyria', u'claros', u'lobby', u'lounge', u'(\\xf6zdere,', u'izmir)', u'w/', u'http://t.co/rge96u4zim', u'onyria', u'claros', u'beach', u'(\\xf6zdere,', u'izmir)', u'http://t.co/rhxkeqlke8', u'genuine', u'fake', u'watches', u'-cartelli', u'da', u'#bazar', u'#minimarketing', u'#roxyontheroad', u'#roxy', u'#turkey', u'#souvenir', u'#watch\\u2026', u'http://t.co/9stluhtxkn', u'onyria', u'claros', u'beach', u'&', u'spa', u'resort', u'(\\xf6zdere,', u'?zmir)', u'http://t.co/1zit24ada0', u'onyria', u'claros', u'lobby', u'lounge', u'(\\xf6zdere,', u'izmir)', u'http://t.co/z5x8hyrojz', 'ready,', 'steady', 'goooo!', '#', 'alleycat', '#bike', '#fixedgear', '@username', '#irideveryday', 'http://t.co/iudy9jg0ae', 'plasti', 'weekly', 'out!', 'http://t.co/leqioc8gzl', '?', 'top', 'stories', 'today', '@username', '@username', '@username', u'nella', u'notte...', u'claudio', u'pic!', u'#boston', u'#bruins', u'#cap', u'#har', u'#hatter', u'#hockey', u'#smile', u'#lifestyle\\u2026', u'http://t.co/qcxe6wozl0', '\"l\\'elettronica', 'indie', 'fa', 'plin', 'plin', 'plin,', 'piace', \"l'elettronica\", 'tamarra', 'che', 'fa', 'weoooow', 'weeepoow', 'woop', 'woop!\"', 'auto-cit.', '#fidget', '#stereoplasti', '#magnum', '#pleasure', '@username', 'w/', '@username', '(@username', 'magnum', 'milano', 'w/', 'others)', '[pic]:', 'http://t.co/f5adiknvvo', u'#magnum', u'croisette', u'#festival', u'#cannes', u'+', u'#magnummilano', u'#japan', u'designed', u'@username', u'magnumit', u'#chocolate\\u2026', u'http://t.co/uy5d7alhz3', u'movies', u'color', u'\\u2022', u'blog', u'featuring', u'stills', u'films', u'color', u'palettes.', u'tool', u'promote...', u'http://t.co/oskfqu41p7', 'plasti', 'weekly', 'out!', 'http://t.co/leqioc8gzl', '?', 'top', 'stories', 'today', '@username', '@username', '@username', 'amazing', '#woman', '-', 'real', 'beauty', '#dove', '#adv', 'https://t.co/bbx20yclwr', 'cuz', 'put', '\"like\"', '-', '#fgdmo', '#fgd', '@username', 'http://t.co/e4vfpetni5', 'circus', '(casalgrande,', 're)', 'http://t.co/gnwiejcarh', 'post', '#roxyontheroad', 'turchia', '#surf', '#roxy', '#apparel', '#travel', '#turkey', 'http://t.co/pqulh2mswr', 'plasti', 'weekly', 'out!', 'http://t.co/leqioc8gzl', '?', 'top', 'stories', 'today', '@username', '@username', 'pass', '#fotoincontri', '@username', '#galimberti', 'http://t.co/urxzzunjqb', 'work', 'progress', '#portrait', '#polaroid', '#galimberti', '#fotoincontri', '#art', '#photography', '#ritratto', 'http://t.co/jfjhnge05k', 'work', 'progress', '#2', '#wip', '#portrait', '#art', '#galimberti', '#fotoincontri', '#ritratto', '#polaroid', '#photography', 'http://t.co/mn4g7zvxky', 'end', '#portrait', '#polaroid', '#workshop', '#galimberti', '#fotoincontri', '#art', '#photography', 'http://t.co/w4pgc7yjkt', 'san', 'felice', 'sul', 'panaro', '(san', 'felice', 'sul', 'panaro,', 'italy)', 'http://t.co/irlxumysdh', '@username', '(parma,', 'pr)', 'w/', 'http://t.co/fooi7eieux', 'man', 'work', '#white', '#home', '#house', 'http://t.co/wfw5ex4ycg', 'plasti', 'weekly', 'out!', 'http://t.co/leqioc8gzl', '?', 'top', 'stories', 'today', '@username', '@username', '#node', '(@username', 'teatro', 'storchi', 'w/', 'others)', 'http://t.co/eyxprmtjnl', 'circus', '(casalgrande,', 're)', 'http://t.co/n8ntnvmi3v', 'cinema', 'victoria', '(modena,', 'mo)', 'w/', 'http://t.co/trzvanetgf', 'watching', 'hangover', 'part', 'iii.', 'http://t.co/oratujmmvf', '#thehangover3', 'follow', 'white', 'rabbit!', '#wonderland', '#animal', '#color', '#fairy', '#tale', 'http://t.co/jxvf7cgyti', 'iride', 'teaser', 'redhook1', '#newyork', '@username', 'http://t.co/2myltukout', 'plasti', 'weekly', 'out!', 'http://t.co/leqioc8gzl', '?', 'top', 'stories', 'today', '@username', '@username', '@username', '#mercurdo', '(@username', 'mercurdo', '2013', 'w/', 'others)', 'http://t.co/cgx1nk2ojm', '\"life', 'plasti', 'fantastic!\"', 'cit.', '#polaroid', '#galimberti', '#kalimba', '#photo', '#photography', '#art', '(@username', 'castello', 'di', 'montecchio', 'w/', 'others)', '[pic]:', 'http://t.co/gxmixcqojq', '#polaroid', '#camera', '#galimberti', '#kalimba', '#fotografiaeuropea', '@username', '#photo', '#photography', '#mauriziogalimberti', '#lips', 'http://t.co/tukvdphp44', '#polaroid', '#camera', '#galimberti', '#beatles', '#shell', '#fotografiaeuropea', '@username', '#photo', '#photography', '#mauriziogalimberti', 'http://t.co/cvywjddwcw', '#helmutnewton', '#polaroid', '#camera', '#galimberti', '#fotografiaeuropea', '@username', '#photo', '#photography', '#mauriziogalimberti', 'http://t.co/npax3v0eso', 'circus', '(casalgrande,', 're)', 'http://t.co/wrapy3fpum', u'proud', u'you!', u'@username', u'#photography', u'#undertheradar', u'@username', u'@username', u'#chicago', u'#skate\\u2026', u'http://t.co/zdgjlk41ut', 'plasti', 'weekly', 'out!', 'http://t.co/leqioc8gzl', '?', 'top', 'stories', 'today', '@username', '@username', '@username', 'thermae', '#salsomaggiore', '#health', '#beauty', '#terme', '#notteceleste', '#igersemiliaromagna', 'http://t.co/rezbnannzr', '#thejambo', 'w/', '@username', '(@username', 'bologna', 'fiere', 'jambo', 'urban', 'summer', 'festival', 'w/', 'others)', 'http://t.co/5fvuercnuq', '#thejambo', 'music', 'italy', 'show', '#mis', '#radiobruno', '#bologna', '#live', '#performance', '#music', 'http://t.co/pj3dk7ltxy', '1,556', 'instagrams', 'make', 'incredible', 'stop-motion', 'video', '@username', 'http://t.co/mslpax0ol9', '#instagram', '#video', '#plasti', '#computer', '#keyboard', '#letter', '#bn', '#blackancdwhite', '#movie', 'http://t.co/jvmezupwzn', 'che', 'botta!', '#terremoto', 'plasti', 'weekly', 'out!', 'http://t.co/leqioc8gzl', '?', 'top', 'stories', 'today', '@username', '@username', '@username', '...', 'moon', 'back.', '#moon', '#night', '#star', '#sky', '#cloud', '#moondance', '#dream', '#dark', '#black', 'http://t.co/nhbwpqdbmh', '#ontheroad', '#jeep', '#adventure', '#street', 'http://t.co/kcbg2wlkgf', 'iko', '(modena,', 'italy)', 'http://t.co/0rbxndr2fm', u'#plasti', u'\\u2022', u'aspire', u'inspire', u'\\u2022', u'testing', u'#notegraphy', u'@username', u'#note', u'#beta', u'#quote', u'#design', u'#font\\u2026', u'http://t.co/rixu1dez0t', u'shiny', u'happy', u'people', u'laughing', u'#me', u'#smile', u'#girl', u'#happy', u'#woman', u'#laugh', u'#photography', u'#photo', u'#love', u'#friend\\u2026', u'http://t.co/y2gfrwrsf8', '#doodle', '#mug', '#breakfast', '#coffee', '#cookie', '#tea', '#family', '#home', '#sister', '#draw', '#kitchen', '#food', '#foodporn', '#design', 'http://t.co/izo35ky8vn', 'plasti', 'weekly', 'out!', 'http://t.co/leqioc8gzl', '?', 'top', 'stories', 'today', '@username', '@username', '@username', 'occhiali', 'da', 'sole', '#vintage', '#hippie', '-', 'selling', 'item', '@username', '#depop', 'http://t.co/jzj2wsuzb1', 'selling', 'item', '@username', '#depop', 'http://t.co/nuexzi6qnc', 'sunglasses', '#vintage', '#hippie', '-', 'selling', 'item', '@username', '#depop', 'http://t.co/jzj2wsuzb1', 'occhiali', 'da', 'sole', '#vintage', 'made', 'italy', '-', 'selling', 'item', '@username', '#depop', 'http://t.co/huo4bkgefb', 'selling', 'item', '@username', '#depop', 'http://t.co/aoknhdif8f', 'cinema', 'estivo,', 'way!', '#cinema', '#movie', '#summer', 'http://t.co/kqdjvydcxt', u'@username', u'#lemonsoda', u'limited', u'edition', u'#narutosoda', u'@usernamemilanomangafest', u'#milanomangafestival', u'#naruto\\u2026', u'http://t.co/ebmwnvjveq', 'iride', 'fixed', 'modena', 'hub', 'store', '(modena,', 'mo)', 'http://t.co/s5ngi2wlpk', u'love', u'long', u'dresses', u'sneaker', u'shoes', u'?', u'la', u'comodit\\xe0!', u'#fashion', u'#style', u'#lifestyle', u'#sneaker', u'#dress', u'#feet\\u2026', u'http://t.co/3ylzacuwtr', u'@username', u'#live', u'stage', u'-', u'@username', u'@username', u'#music', u'#swing', u'#performance', u'#italy\\u2026', u'http://t.co/4rorayxdvo', 'plasti', 'weekly', 'out!', 'http://t.co/leqioc8gzl', '?', 'top', 'stories', 'today', '@username', '@username', '@username', '#stereoplasti', '#music', '#radio', '#stereo', '#plasti', '?', '\"are', 'ready\"', '@username', 'http://t.co/vsm0bpk2dq', 'plasti', 'weekly', 'out!', 'http://t.co/leqioc8gzl', '?', 'top', 'stories', 'today', '@username', '@username', '@username', u'cose', u'#vintage:', u'#playmobil!!!', u'#game', u'#children', u'#child', u'#childhood', u'#cowboy', u'#cow', u'#animal', u'#western', u'#desert\\u2026', u'http://t.co/ppyiwivjnx', '#vaperitivo', '(@username', 'cascina', 'cuccagna', 'w/', 'others)', '[pic]:', 'http://t.co/y7gpqndk1e', 'plasti', 'weekly', 'out!', 'http://t.co/leqioc8gzl', '?', 'top', 'stories', 'today', '@username', '@username', '@username', 'amazing', 'night', 'w/', '@username', '@username', 'friends!', '#ork!', '@username', 'miss', 'you!!!', ':*', 'http://t.co/9tpw0po4n2', 'circus', '(casalgrande,', 're)', 'http://t.co/lkyet5ke3z', u'buscap\\xe8', u'(modena,', u'italy)', u'http://t.co/h1lnxbm2bs', '#trofeotim', '#pass', 'tim_official', '#match', '#soccer', '#sassuolo', '#milan', '#juventus', '#juve', '#football', 'http://t.co/58chxozfma', 'plasti', 'weekly', 'out!', 'http://t.co/leqioc8gzl', '?', 'top', 'stories', 'today', '@username', '@username', '@username', 'soundtrack:', '?', '\"shake', 'out\"', '@username', 'http://t.co/rszbged17r', 'shake', '/', 'shake', '-', '#florence', '+', 'machine', '#sing', '#song', '#summer', '#travel', 'http://t.co/sckbb1g8kv', '#cycles', '-', 'short', 'film', 'passion,', 'culture', 'craftsmanship', 'http://t.co/zrmpuee3tw', '#helmet', '#carrera', '@username', '@username', '#fixedgear', 'feeling', 'hungry?', 'porn', 'sex', 'real', 'sex', 'https://t.co/c59t27bw18']\n"
       ]
      }
     ],
     "prompt_number": 28
    },
    {
     "cell_type": "code",
     "collapsed": false,
     "input": [
      "test_text"
     ],
     "language": "python",
     "metadata": {},
     "outputs": [
      {
       "metadata": {},
       "output_type": "pyout",
       "prompt_number": 26,
       "text": [
        "[u'Sister in town @username #gift #vans #offthewall #vansgirls #cap #socks #hat #tracker #hatter\\u2026 http://t.co/umLCCCKp5I\\t\\t',\n",
        " '#condividiunacocacola with friends rickybavutti #friends http://t.co/qzmFvNCHBK\\t\\t',\n",
        " 'proviamo @username Remember anything from any website / Save, organize, and share whatever you find and love. #test\\t\\t',\n",
        " \"Just downloaded Nothing's Changed #Tricky @username - http://t.co/0ukQeMP8wc #stereoplasti #onair #radio #stereo #music #nowplaying\\t\\t\",\n",
        " 'I am watching Original Sin. http://t.co/v2MbmWhJUL #OriginalSin\\t\\t',\n",
        " 'The plasti Weekly is out! http://t.co/leQioc8gZL ? Top stories today via @username @username @username\\t\\t',\n",
        " '#heytricky #tricky @username in the dark - #downtempo #live #music #performance #stereoplasti http://t.co/dFczeiX4t1\\t\\t',\n",
        " u'#heytricky #tricky @username yesterday night in #Bologna #live #music #performance #stereoplasti\\u2026 http://t.co/DPcJJ9AjD5\\t\\t',\n",
        " u'People dancing on #stage @username #tricky #heytricky #live #music #love #performance #party\\u2026 http://t.co/rl2uRlSlCH\\t\\t',\n",
        " u'Yesterday night #amazing @username #sadarbahar in #Verona w/ missgiulia75 - #carhartt #carvarttwip\\u2026 http://t.co/MKAqaXrwou\\t\\t',\n",
        " u'#roxyontheroad #plastiwanders (@username ?stanbul Atat\\xfcrk Airport (IST) - @usernameistanbulairport w/ 227 others) http://t.co/Z40m61ICZA\\t\\t',\n",
        " u'Events in #Istanbul - in hotel propongono @username #lol #roxy @username #roxyontheroad #travel\\u2026 http://t.co/HE3EOk3CtP\\t\\t',\n",
        " 'Ottimo: Hakiki Sahlep #Istanbul #streetfood @username #roxy #roxyontheroad #travel http://t.co/N6R3dnj74l\\t\\t',\n",
        " 'Buongiorno turkish #breakfast #istanbul #turkey #roxyontheroad #roxy #travel #plastiwanders http://t.co/2UormnjLKw\\t\\t',\n",
        " '#roxyontheroad #roxy #plastiwanders (@username Vera Hotel Tassaray) [pic]: http://t.co/WlY1ilz8CH\\t\\t',\n",
        " 'The plasti Weekly is out! http://t.co/leQioc8gZL ? Top stories today via @username @username @username\\t\\t',\n",
        " '#roxyontheroad #roxy #travel#quiksilver (@username Pamukkale w/ 5 others) http://t.co/kaO2qENiAX\\t\\t',\n",
        " '#roxyontheroad #roxy #travel #quiksilver #plastiwanders (@username Tripolis Thermal Hotel) http://t.co/kvaqXliWZ7\\t\\t',\n",
        " u\"I'm at Onyria Claros Beach & Spa Resort (\\xd6zdere, ?zmir) http://t.co/g7flVmAjrj\\t\\t\",\n",
        " u\"I'm at Onyria Claros Lobby Lounge (\\xd6zdere, Izmir) w/ 3 others http://t.co/RgE96U4ZIm\\t\\t\",\n",
        " u\"I'm at Onyria Claros Beach (\\xd6zdere, Izmir) http://t.co/rHXkEqLKe8\\t\\t\",\n",
        " u'Genuine fake watches -cartelli da #bazar #minimarketing #roxyontheroad #roxy #turkey #souvenir #watch\\u2026 http://t.co/9stluHtxkn\\t\\t',\n",
        " u\"I'm at Onyria Claros Beach & Spa Resort (\\xd6zdere, ?zmir) http://t.co/1ZIT24ADa0\\t\\t\",\n",
        " u\"I'm at Onyria Claros Lobby Lounge (\\xd6zdere, Izmir) http://t.co/Z5x8HyroJz\\t\\t\",\n",
        " 'Ready, steady goooo! # alleycat #bike #fixedgear @username #irideveryday http://t.co/iudy9JG0aE\\t\\t',\n",
        " 'The plasti Weekly is out! http://t.co/leQioc8gZL ? Top stories today via @username @username @username\\t\\t',\n",
        " u'Nella notte... thanks Claudio for the pic! #boston #bruins #cap #har #hatter #hockey #smile #lifestyle\\u2026 http://t.co/qCXe6WozL0\\t\\t',\n",
        " '\"L\\'elettronica indie fa plin plin plin, a me piace l\\'elettronica tamarra che fa weoooow weeepoow woop woop!\" auto-cit. #fidget #stereoplasti\\t\\t',\n",
        " '#magnum #pleasure @username w/ @username (@username Magnum Milano w/ 2 others) [pic]: http://t.co/f5ADIkNVvO\\t\\t',\n",
        " u'#magnum croisette #festival #cannes + #magnummilano #japan designed by @username magnumit #chocolate\\u2026 http://t.co/UY5d7ALhZ3\\t\\t',\n",
        " u'Movies In Color \\u2022 A blog featuring stills from films and their corresponding color palettes. A tool to promote... http://t.co/oSKfqu41p7\\t\\t',\n",
        " 'The plasti Weekly is out! http://t.co/leQioc8gZL ? Top stories today via @username @username @username\\t\\t',\n",
        " 'Amazing #woman - real beauty #dove #adv https://t.co/bbx20ycLWR\\t\\t',\n",
        " 'Cuz if you liked it then you should have put a \"Like\" on it - #fgdmo #fgd @username http://t.co/e4VFpEtnI5\\t\\t',\n",
        " \"I'm at Circus (Casalgrande, RE) http://t.co/gnWiejCArH\\t\\t\",\n",
        " 'post #roxyontheroad in Turchia #surf #roxy #apparel #travel #turkey http://t.co/PqulH2MsWr\\t\\t',\n",
        " 'The plasti Weekly is out! http://t.co/leQioc8gZL ? Top stories today via @username @username\\t\\t',\n",
        " 'Pass #Fotoincontri @username #galimberti http://t.co/urXZZuNJqB\\t\\t',\n",
        " 'Work in progress #portrait #polaroid #galimberti #Fotoincontri #art #photography #ritratto http://t.co/jFjHNgE05k\\t\\t',\n",
        " 'Work in progress #2 #wip #portrait #art #galimberti #Fotoincontri #ritratto  #polaroid #photography http://t.co/mn4g7zvxky\\t\\t',\n",
        " 'At the end #portrait #polaroid #workshop #galimberti #Fotoincontri #art #photography http://t.co/W4PGC7yjkT\\t\\t',\n",
        " \"I'm at San Felice sul Panaro (San Felice sul Panaro, Italy) http://t.co/IRlXuMySdH\\t\\t\",\n",
        " \"I'm at @username (Parma, PR) w/ 2 others http://t.co/fOOi7eieuX\\t\\t\",\n",
        " 'Man at work #white #home #house http://t.co/WFW5Ex4ycG\\t\\t',\n",
        " 'The plasti Weekly is out! http://t.co/leQioc8gZL ? Top stories today via @username @username\\t\\t',\n",
        " '#node (@username Teatro Storchi w/ 2 others) http://t.co/eyXpRmTjNl\\t\\t',\n",
        " \"I'm at Circus (Casalgrande, RE) http://t.co/N8NtNVMi3v\\t\\t\",\n",
        " \"I'm at Cinema Victoria (Modena, MO) w/ 3 others http://t.co/tRzVAneTGf\\t\\t\",\n",
        " 'I am watching The Hangover Part III. http://t.co/ORAtUJmmVf #TheHangover3\\t\\t',\n",
        " 'Follow the White Rabbit! #wonderland #animal #color #fairy #tale http://t.co/jXvf7cgyti\\t\\t',\n",
        " 'Iride Teaser Redhook1 #newyork @username http://t.co/2mYLtukoUT\\t\\t',\n",
        " 'The plasti Weekly is out! http://t.co/leQioc8gZL ? Top stories today via @username @username @username\\t\\t',\n",
        " '#mercurdo (@username Mercurdo 2013 w/ 2 others) http://t.co/cgx1nk2OjM\\t\\t',\n",
        " '\"Life in Plasti is fantastic!\" cit.\\t\\t',\n",
        " '#polaroid #galimberti #kalimba #photo #photography #art (@username Castello di Montecchio w/ 2 others) [pic]: http://t.co/GxmIxcQoJQ\\t\\t',\n",
        " '#polaroid #camera #galimberti #kalimba #fotografiaeuropea @username #photo #photography #mauriziogalimberti\\n#lips http://t.co/tukVDphp44\\t\\t',\n",
        " '#polaroid #camera #galimberti #beatles #shell #fotografiaeuropea @username #photo #photography #mauriziogalimberti\\nhttp://t.co/CVyWJDdWcw\\t\\t',\n",
        " '#helmutnewton #polaroid #camera #galimberti #fotografiaeuropea @username #photo #photography #mauriziogalimberti\\n http://t.co/nPAx3v0esO\\t\\t',\n",
        " \"I'm at Circus (Casalgrande, RE) http://t.co/wRAPy3fPUm\\t\\t\",\n",
        " u\"I'm so proud of you! @username #photography #undertheradar @username @username #chicago #skate\\u2026 http://t.co/ZDGjlK41ut\\t\\t\",\n",
        " 'The plasti Weekly is out! http://t.co/leQioc8gZL ? Top stories today via @username @username @username\\t\\t',\n",
        " 'Thermae #salsomaggiore #health #beauty #terme #notteceleste #igersemiliaromagna http://t.co/rEZbnanNZr\\t\\t',\n",
        " '#thejambo w/ @username (@username Bologna Fiere for The Jambo Urban Summer Festival w/ 8 others) http://t.co/5FVUercNuQ\\t\\t',\n",
        " '#thejambo Music Italy Show #mis #radiobruno #bologna #live #performance #music http://t.co/PJ3DK7ltxy\\t\\t',\n",
        " '1,556 Instagrams Make 1 Incredible Stop-Motion Video via @username http://t.co/mslPAx0oL9\\t\\t',\n",
        " 'Trying out the new #instagram #video #plasti #computer #keyboard #letter #bn #blackancdwhite #movie http://t.co/jVmeZUPwZn\\t\\t',\n",
        " 'Che botta! #terremoto\\t\\t',\n",
        " 'The plasti Weekly is out! http://t.co/leQioc8gZL ? Top stories today via @username @username @username\\t\\t',\n",
        " '... to the moon and back. #moon #night #star #sky #cloud #moondance #dream #dark #black http://t.co/nHbWPqDbmh\\t\\t',\n",
        " 'Be the best you can be #ontheroad #jeep #adventure #street http://t.co/KcBG2WLKGF\\t\\t',\n",
        " \"I'm at IKO (Modena, Italy) http://t.co/0RbXndr2fM\\t\\t\",\n",
        " u'#plasti \\u2022 aspire to inspire \\u2022 testing #notegraphy @username #note #beta #quote #design #font\\u2026 http://t.co/RixU1Dez0T\\t\\t',\n",
        " u'Shiny happy people laughing\\n#me #smile #girl #happy #woman #laugh #photography #photo #love #friend\\u2026 http://t.co/Y2GFrwrsf8\\t\\t',\n",
        " '#doodle #mug #breakfast #coffee #cookie #tea #family #home #sister #draw #kitchen #food #foodporn #design http://t.co/iZO35Ky8VN\\t\\t',\n",
        " 'The plasti Weekly is out! http://t.co/leQioc8gZL ? Top stories today via @username @username @username\\t\\t',\n",
        " \"Occhiali da sole #vintage #hippie - I'm selling this item on @username #depop http://t.co/JzJ2WSUzB1\\t\\t\",\n",
        " \"I'm selling this item on @username #depop http://t.co/NuexzI6QNC\\t\\t\",\n",
        " \"Sunglasses #vintage #hippie - I'm selling this item on @username #depop http://t.co/JzJ2WSUzB1\\t\\t\",\n",
        " \"Occhiali da sole #vintage made in Italy - I'm selling this item on @username #depop http://t.co/Huo4bKGEfb\\t\\t\",\n",
        " \"I'm selling this item on @username #depop http://t.co/aOKnHdiF8f\\t\\t\",\n",
        " 'Cinema estivo, this way! #cinema #movie #summer http://t.co/kqDjVydcXT\\t\\t',\n",
        " u'Thanks @username #LemonSoda limited edition #NarutoSoda for @usernamemilanomangafest #MilanoMangaFestival #Naruto\\u2026 http://t.co/ebmwnvjVeQ\\t\\t',\n",
        " \"I'm at Iride Fixed Modena Hub Store (Modena, MO) http://t.co/s5NGi2wLpK\\t\\t\",\n",
        " u'I love long dresses and sneaker shoes ? la comodit\\xe0! #fashion #style #lifestyle #sneaker #dress #feet\\u2026 http://t.co/3YlZaCuWtr\\t\\t',\n",
        " u'@username #live on stage - @username @username #music #swing #performance #italy\\u2026 http://t.co/4ROrAyxDvo\\t\\t',\n",
        " 'The plasti Weekly is out! http://t.co/leQioc8gZL ? Top stories today via @username @username @username\\t\\t',\n",
        " '#stereoplasti #music #radio #stereo #plasti ? \"Are You Ready\" by @username http://t.co/vsm0bPk2Dq\\t\\t',\n",
        " 'The plasti Weekly is out! http://t.co/leQioc8gZL ? Top stories today via @username @username @username\\t\\t',\n",
        " u'Cose #vintage: i #playmobil!!! #game #children #child #childhood #cowboy #cow #animal #western #desert\\u2026 http://t.co/ppYIWIVjNx\\t\\t',\n",
        " '#vaperitivo (@username Cascina Cuccagna w/ 3 others) [pic]: http://t.co/y7gPQnDk1E\\t\\t',\n",
        " 'The plasti Weekly is out! http://t.co/leQioc8gZL ? Top stories today via @username @username @username\\t\\t',\n",
        " 'Amazing night w/ @username @username and others old friends! Thank you #ork! @username miss you!!! :* http://t.co/9tpw0Po4n2\\t\\t',\n",
        " \"I'm at Circus (Casalgrande, RE) http://t.co/lKyEt5kE3Z\\t\\t\",\n",
        " u\"I'm at Buscap\\xe8 (Modena, Italy) http://t.co/h1lNxBM2bs\\t\\t\",\n",
        " '#trofeotim #pass tim_official #match #soccer #sassuolo #milan #juventus #juve #football http://t.co/58cHxOzfMa\\t\\t',\n",
        " 'The plasti Weekly is out! http://t.co/leQioc8gZL ? Top stories today via @username @username @username\\t\\t',\n",
        " 'My soundtrack: ? \"Shake It Out\" by @username http://t.co/RsZbgED17R\\t\\t',\n",
        " 'Shake it out / shake it out - #florence + the machine #sing #song #summer #travel http://t.co/SCKbb1g8KV\\t\\t',\n",
        " '#Cycles - A Short Film About Passion, Culture and Craftsmanship http://t.co/zrMPuEE3tw #helmet #carrera @username @username #fixedgear\\t\\t',\n",
        " 'Feeling hungry? Porn sex VS real sex https://t.co/C59T27bW18\\t\\t']"
       ]
      }
     ],
     "prompt_number": 26
    },
    {
     "cell_type": "code",
     "collapsed": false,
     "input": [],
     "language": "python",
     "metadata": {},
     "outputs": [],
     "prompt_number": 0
    },
    {
     "cell_type": "code",
     "collapsed": false,
     "input": [],
     "language": "python",
     "metadata": {},
     "outputs": []
    }
   ],
   "metadata": {}
  }
 ]
}